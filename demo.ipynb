{
 "cells": [
  {
   "cell_type": "code",
   "execution_count": null,
   "id": "aa28f55f-8da6-4683-9f08-ea08a8507c64",
   "metadata": {},
   "outputs": [],
   "source": [
    "import torch\n",
    "import grid_index"
   ]
  },
  {
   "cell_type": "code",
   "execution_count": null,
   "id": "f3b0e731-64dc-4163-81e6-0bd1b610cbd1",
   "metadata": {},
   "outputs": [],
   "source": [
    "in_tensor = torch.rand(4,4,4,3).cuda()\n",
    "in_index = torch.tensor([ [0,2,1],[1,3,2] ]).cuda().long()"
   ]
  },
  {
   "cell_type": "code",
   "execution_count": null,
   "id": "6fb0e482-b390-458b-9849-091f5c4db7f6",
   "metadata": {},
   "outputs": [],
   "source": [
    "out_tensor = torch.zeros(2,3).cuda()"
   ]
  },
  {
   "cell_type": "code",
   "execution_count": null,
   "id": "a287f2bc-ce57-4dbb-a409-e4287d177d89",
   "metadata": {},
   "outputs": [],
   "source": [
    "grid_index.grid_index_forward(in_tensor,in_index,out_tensor)"
   ]
  },
  {
   "cell_type": "code",
   "execution_count": null,
   "id": "40420b38-da62-4d70-ada0-8b8a216543a3",
   "metadata": {},
   "outputs": [],
   "source": []
  },
  {
   "cell_type": "code",
   "execution_count": null,
   "id": "2d7e5b59-02a8-4579-8e98-b9240be30e2e",
   "metadata": {},
   "outputs": [],
   "source": [
    "import torch.nn as nn\n",
    "class GIFunction(torch.autograd.Function):\n",
    "\n",
    "    @staticmethod\n",
    "    def forward(ctx, in_tensor, in_index):\n",
    "\n",
    "        num_points = in_index.size(0)\n",
    "        dim_features = in_tensor.size(3)\n",
    "\n",
    "        if in_index.size(1) != 3 or len(in_tensor.size())!=4:\n",
    "            raise Exception('[Grid_Index] dimensions are not consistant.')\n",
    "\n",
    "\n",
    "\n",
    "        out_tensor = torch.zeros(num_points,dim_features,device=in_tensor.device)\n",
    "\n",
    " \n",
    "        grid_index.grid_index_forward(in_tensor,in_index,out_tensor)\n",
    "\n",
    "\n",
    "        ctx.save_for_backward(in_tensor, in_index, out_tensor)\n",
    "\n",
    "        return out_tensor\n",
    "\n",
    "    @staticmethod\n",
    "    def backward(ctx, grad_tensor):\n",
    "        in_tensor, in_index, out_tensor = ctx.saved_tensors\n",
    "\n",
    "        grad_tensor = grad_tensor.contiguous() \n",
    "\n",
    "        out_grad_tensor = torch.zeros_like(in_tensor)\n",
    "        \n",
    "        grid_index.grid_index_backward(grad_tensor,in_index,out_grad_tensor)\n",
    "\n",
    "        return out_grad_tensor, None \n",
    "\n",
    "\n",
    "\n",
    "class Grid_Indexer(nn.Module):\n",
    "    def __init__(self):\n",
    "        super(Grid_Indexer, self).__init__()\n",
    "\n",
    "    def forward(self, in_tensor, in_index):\n",
    "        return GIFunction.apply(in_tensor, in_index)"
   ]
  },
  {
   "cell_type": "code",
   "execution_count": null,
   "id": "777626e3-d63c-47ba-b978-26758de0be56",
   "metadata": {},
   "outputs": [],
   "source": [
    "indexer = Grid_Indexer()"
   ]
  },
  {
   "cell_type": "code",
   "execution_count": null,
   "id": "434f0cb3-26f3-48ea-b8a4-31ee8bd95425",
   "metadata": {},
   "outputs": [],
   "source": []
  },
  {
   "cell_type": "code",
   "execution_count": null,
   "id": "e3933eaa-06d4-4c37-b455-307aa63380f1",
   "metadata": {},
   "outputs": [],
   "source": []
  },
  {
   "cell_type": "code",
   "execution_count": null,
   "id": "3df0f8c2-27cc-479e-9489-f52d766025dc",
   "metadata": {},
   "outputs": [],
   "source": []
  },
  {
   "cell_type": "code",
   "execution_count": null,
   "id": "6eef0b01-ea2a-4e46-b7a8-72c999883749",
   "metadata": {},
   "outputs": [],
   "source": []
  },
  {
   "cell_type": "code",
   "execution_count": null,
   "id": "89741030-8d50-431f-b59e-14a8d7aec99e",
   "metadata": {},
   "outputs": [],
   "source": []
  }
 ],
 "metadata": {
  "kernelspec": {
   "display_name": "Python 3 (ipykernel)",
   "language": "python",
   "name": "python3"
  },
  "language_info": {
   "codemirror_mode": {
    "name": "ipython",
    "version": 3
   },
   "file_extension": ".py",
   "mimetype": "text/x-python",
   "name": "python",
   "nbconvert_exporter": "python",
   "pygments_lexer": "ipython3",
   "version": "3.9.7"
  }
 },
 "nbformat": 4,
 "nbformat_minor": 5
}
